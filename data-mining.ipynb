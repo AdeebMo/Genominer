{
 "cells": [
  {
   "cell_type": "markdown",
   "metadata": {},
   "source": [
    "The Following reads the FASTA file, and displays information on it"
   ]
  },
  {
   "cell_type": "code",
   "execution_count": 2,
   "metadata": {},
   "outputs": [
    {
     "name": "stdout",
     "output_type": "stream",
     "text": [
      "Loaded genomes:\n",
      "Danio_rerio.GRCz11.dna.chromosome.MT.fa\n",
      "Gallus_gallus_gca016700215v2.bGalGal1.pat.whiteleghornlayer.GRCg7w.dna.nonchromosomal.fa\n",
      "Homo_sapiens.GRCh38.dna.chromosome.MT.fa\n",
      "Leptobrachium_leishanense.ASM966780v1.dna.nonchromosomal.fa\n",
      "Mus_musculus.GRCm39.dna.chromosome.MT.fa\n",
      "Sus_scrofa.Sscrofa11.1.dna.nonchromosomal.fa\n"
     ]
    }
   ],
   "source": [
    "import os\n",
    "from Bio import SeqIO\n",
    "\n",
    "# Folder containing the unzipped FASTA files\n",
    "folder_path = \"./unzipped_mt_datasets/\"\n",
    "\n",
    "# List to store genome IDs with full species names\n",
    "genomes = []\n",
    "\n",
    "# Extract full header information for clarity\n",
    "for filename in os.listdir(folder_path):\n",
    "    if filename.endswith(\".fa\") or filename.endswith(\".fasta\"):\n",
    "        file_path = os.path.join(folder_path, filename)\n",
    "        record = next(SeqIO.parse(file_path, \"fasta\"))\n",
    "        # Store the file name and actual sequence\n",
    "        genomes.append((filename, str(record.seq)))  # Include the sequence as a string\n",
    "\n",
    "\n",
    "# Print the loaded genomes to verify\n",
    "print(f\"Loaded genomes:\")\n",
    "for genome_id in genomes:\n",
    "    print(genome_id[0])\n"
   ]
  },
  {
   "cell_type": "markdown",
   "metadata": {},
   "source": [
    "splits the sequence into 6-mers and displays a sample"
   ]
  },
  {
   "cell_type": "code",
   "execution_count": 3,
   "metadata": {},
   "outputs": [
    {
     "name": "stdout",
     "output_type": "stream",
     "text": [
      "Sample 6-mer counts: [('ACGGCC', 3), ('CGGCCG', 3), ('GGCCGG', 1), ('GCCGGC', 3), ('CCGGCG', 1), ('CGGCGA', 1), ('GGCGAC', 2), ('GCGACA', 2), ('CGACAA', 4), ('GACAAT', 8)]\n"
     ]
    }
   ],
   "source": [
    "from collections import Counter\n",
    "\n",
    "def k_mer_count(sequence, k=6):\n",
    "    \"\"\"Counts k-mers in the sequence.\"\"\"\n",
    "    return Counter([sequence[i:i + k] for i in range(len(sequence) - k + 1)])\n",
    "\n",
    "# Generate k-mer counts for each genome\n",
    "kmer_vectors = []\n",
    "k = 6  # Define k value\n",
    "for genome_id, sequence in genomes:\n",
    "    if len(sequence) >= k:  # Only process sequences long enough for k-mers\n",
    "        kmer_counts = k_mer_count(sequence, k=k)\n",
    "        kmer_vectors.append(kmer_counts)\n",
    "    else:\n",
    "        kmer_vectors.append(Counter())  # Add an empty Counter for short sequences\n",
    "\n",
    "# Print a single example at the end\n",
    "if kmer_vectors:\n",
    "    first_non_empty = next((kv for kv in kmer_vectors if kv), None)  # Find the first non-empty Counter\n",
    "    if first_non_empty:\n",
    "        print(f\"Sample 6-mer counts: {list(first_non_empty.items())[:10]}\")\n",
    "    else:\n",
    "        print(\"No valid k-mers found in the data.\")\n",
    "else:\n",
    "    print(\"No data to process.\")\n"
   ]
  },
  {
   "cell_type": "markdown",
   "metadata": {},
   "source": [
    "transforming the k-mer count into a feature vector for clustering"
   ]
  },
  {
   "cell_type": "code",
   "execution_count": 4,
   "metadata": {},
   "outputs": [
    {
     "name": "stdout",
     "output_type": "stream",
     "text": [
      "Feature Vector Shape: (6, 4102)\n"
     ]
    }
   ],
   "source": [
    "from sklearn.feature_extraction import DictVectorizer\n",
    "\n",
    "# Convert the k-mer dictionaries to numerical vectors\n",
    "vectorizer = DictVectorizer(sparse=False)\n",
    "X = vectorizer.fit_transform(kmer_vectors)\n",
    "\n",
    "print(f\"Feature Vector Shape: {X.shape}\")\n",
    "\n"
   ]
  },
  {
   "cell_type": "code",
   "execution_count": 17,
   "metadata": {},
   "outputs": [
    {
     "name": "stdout",
     "output_type": "stream",
     "text": [
      "Danio_rerio.GRCz11.dna.chromosome.MT.fa -> Cluster 0\n",
      "Gallus_gallus_gca016700215v2.bGalGal1.pat.whiteleghornlayer.GRCg7w.dna.nonchromosomal.fa -> Cluster 0\n",
      "Homo_sapiens.GRCh38.dna.chromosome.MT.fa -> Cluster 0\n",
      "Leptobrachium_leishanense.ASM966780v1.dna.nonchromosomal.fa -> Cluster 2\n",
      "Mus_musculus.GRCm39.dna.chromosome.MT.fa -> Cluster 0\n",
      "Sus_scrofa.Sscrofa11.1.dna.nonchromosomal.fa -> Cluster 1\n"
     ]
    }
   ],
   "source": [
    "from sklearn.cluster import KMeans\n",
    "\n",
    "# Apply K-means clustering with 3 clusters\n",
    "kmeans = KMeans(n_clusters=3, random_state=42).fit(X)\n",
    "\n",
    "# Output the cluster labels for each genome\n",
    "for i, (genome_id, _) in enumerate(genomes):\n",
    "    print(f\"{genome_id} -> Cluster {kmeans.labels_[i]}\")\n",
    "\n"
   ]
  },
  {
   "cell_type": "code",
   "execution_count": 18,
   "metadata": {},
   "outputs": [
    {
     "name": "stdout",
     "output_type": "stream",
     "text": [
      "Silhouette Score: 0.49145614271990024\n",
      "Moderate clustering. There may be some overlap between clusters.\n"
     ]
    }
   ],
   "source": [
    "from sklearn.metrics import silhouette_score\n",
    "\n",
    "# Assuming you already have:\n",
    "# - X: The feature matrix you used in K-means (your k-mer vectors or genomic features)\n",
    "# - kmeans: Your trained K-means model\n",
    "\n",
    "# Compute the Silhouette Score\n",
    "sil_score = silhouette_score(X, kmeans.labels_)\n",
    "\n",
    "# Display the score\n",
    "print(f\"Silhouette Score: {sil_score}\")\n",
    "\n",
    "# Provide an interpretation based on the score\n",
    "if sil_score > 0.5:\n",
    "    print(\"Good clustering! Your clusters are well-separated.\")\n",
    "elif 0.2 <= sil_score <= 0.5:\n",
    "    print(\"Moderate clustering. There may be some overlap between clusters.\")\n",
    "else:\n",
    "    print(\"Poor clustering. Consider adjusting the number of clusters or using a different algorithm.\")\n"
   ]
  }
 ],
 "metadata": {
  "kernelspec": {
   "display_name": "Python 3",
   "language": "python",
   "name": "python3"
  },
  "language_info": {
   "codemirror_mode": {
    "name": "ipython",
    "version": 3
   },
   "file_extension": ".py",
   "mimetype": "text/x-python",
   "name": "python",
   "nbconvert_exporter": "python",
   "pygments_lexer": "ipython3",
   "version": "3.11.5"
  }
 },
 "nbformat": 4,
 "nbformat_minor": 2
}
